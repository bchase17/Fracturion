{
 "cells": [
  {
   "cell_type": "code",
   "execution_count": 1,
   "metadata": {},
   "outputs": [],
   "source": [
    "import numpy as np\n",
    "import pandas as pd\n",
    "import datetime\n",
    "import yfinance as yf\n",
    "from datetime import datetime, timedelta\n",
    "from dateutil.relativedelta import relativedelta\n",
    "\n",
    "# For importing universal scripts\n",
    "import sys\n",
    "import os\n",
    "# Go up two levels from the subfolder\n",
    "sys.path.append(os.path.abspath(\"../..\"))\n",
    "from indicators_returns import final_df #Universal script for indicator set and actuals"
   ]
  },
  {
   "cell_type": "code",
   "execution_count": 2,
   "metadata": {},
   "outputs": [],
   "source": [
    "ticker = 'QQQ'\n",
    "returns = [5, 10, 20, 30, 45, 60, 90]\n",
    "lb = 20\n",
    "df = final_df(ticker, returns, lb)\n",
    "df = df.iloc[:-101].replace([np.inf, -np.inf], 0)"
   ]
  },
  {
   "cell_type": "markdown",
   "metadata": {},
   "source": [
    "# Volatility, Zscore and Auto Correlation DF"
   ]
  },
  {
   "cell_type": "code",
   "execution_count": 10,
   "metadata": {},
   "outputs": [],
   "source": [
    "from scipy.stats import skew, kurtosis, zscore\n",
    "\n",
    "vol_zscore_stats = []\n",
    "\n",
    "# Approximate trading days per year\n",
    "years_to_days = {5: 1260, 10: 2520, 15: 3780}\n",
    "\n",
    "for r in returns:\n",
    "    df_test = df.copy()\n",
    "    return_col = f'Return_{r}'\n",
    "    indicator_cols = [col for col in df_test.columns \n",
    "                    if col not in ['Date', 'Close', 'High', 'Low', 'Volume']\n",
    "                    and not col.startswith('Return')\n",
    "                    and 'slope' not in col.lower()\n",
    "    ]\n",
    "\n",
    "    for col in indicator_cols:\n",
    "        x_full = df_test[col].dropna()\n",
    "        if len(x_full) < 400:  # need data for longest z-score window\n",
    "            continue\n",
    "\n",
    "        row = {'r': r, 'indicator': col}\n",
    "\n",
    "        # Rolling volatility stats\n",
    "        for w in [21, 42, 63]:\n",
    "            row[f'avg_vol_{w}'] = df_test[col].rolling(window=w).std().mean()\n",
    "\n",
    "        # Z-score stats by time horizon\n",
    "        for y, lookback in years_to_days.items():\n",
    "            x = x_full[-lookback:]\n",
    "            if len(x) < 100:\n",
    "                continue\n",
    "\n",
    "            x_z = zscore(x)\n",
    "            row[f'tight_zrange_pct_{y}y'] = ((x_z >= -0.1) & (x_z <= 0.1)).mean().round(4)\n",
    "            row[f'skew_{y}y'] = skew(x_z)\n",
    "            row[f'kurtosis_{y}y'] = kurtosis(x_z)\n",
    "\n",
    "        # Autocorrelation stats (based on latest full series)\n",
    "        for lag in [1, 5, 10]:\n",
    "            if len(x_full) > lag:\n",
    "                row[f'autocorr_lag{lag}'] = x_full.autocorr(lag=lag)\n",
    "\n",
    "        vol_zscore_stats.append(row)\n",
    "\n",
    "vol_z_df = pd.DataFrame(vol_zscore_stats)\n",
    "vol_z_df.to_csv('indicator_dynamics.csv', index=False)"
   ]
  }
 ],
 "metadata": {
  "kernelspec": {
   "display_name": "Python 3",
   "language": "python",
   "name": "python3"
  },
  "language_info": {
   "codemirror_mode": {
    "name": "ipython",
    "version": 3
   },
   "file_extension": ".py",
   "mimetype": "text/x-python",
   "name": "python",
   "nbconvert_exporter": "python",
   "pygments_lexer": "ipython3",
   "version": "3.12.1"
  },
  "orig_nbformat": 4
 },
 "nbformat": 4,
 "nbformat_minor": 2
}
